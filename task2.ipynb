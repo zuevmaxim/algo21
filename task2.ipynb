{
 "cells": [
  {
   "cell_type": "code",
   "execution_count": 1,
   "id": "9ba11d3c-35e5-434b-8a25-e69252fc0a9c",
   "metadata": {},
   "outputs": [],
   "source": [
    "import math\n",
    "from scipy import optimize"
   ]
  },
  {
   "cell_type": "code",
   "execution_count": 2,
   "id": "0005ffcc-1832-4c69-bfe5-17c6cd40f4ba",
   "metadata": {},
   "outputs": [],
   "source": [
    "import matplotlib.pyplot as plt\n",
    "\n",
    "params = {'legend.fontsize': 14,\n",
    "          'figure.figsize': (14, 8),\n",
    "         'axes.labelsize': 14,\n",
    "         'axes.titlesize': 14,\n",
    "         'xtick.labelsize': 12,\n",
    "         'ytick.labelsize': 12}\n",
    "plt.rcParams.update(params)"
   ]
  },
  {
   "cell_type": "code",
   "execution_count": 3,
   "id": "b1160764-c9ee-46e9-bdd7-5691de3b5787",
   "metadata": {},
   "outputs": [],
   "source": [
    "def minimize_dichotomy(f, a, b, epsilon):\n",
    "    delta = epsilon / 2\n",
    "    iterations = 0\n",
    "    while b - a > epsilon:\n",
    "        iterations += 1\n",
    "        left = (a + b - delta) / 2\n",
    "        right = (a + b + delta) / 2\n",
    "        if f(left) <= f(right):\n",
    "            b = right\n",
    "        else:\n",
    "            a = left\n",
    "    return (a + b) / 2, iterations\n",
    "\n",
    "def minimize_golden(f, a, b, epsilon):\n",
    "    delta = (3 - math.sqrt(5.0)) / 2\n",
    "    iterations = 0\n",
    "    f_left = None\n",
    "    f_right = None\n",
    "    while b - a > epsilon:\n",
    "        iterations += 1\n",
    "        if f_left is None:\n",
    "            left = a + delta * (b - a)\n",
    "            f_left = f(left)\n",
    "        if f_right is None:\n",
    "            right = b - delta * (b - a)\n",
    "            f_right = f(right)\n",
    "            \n",
    "        if f_left <= f_right:\n",
    "            b = right\n",
    "            right = left\n",
    "            f_right = f_left\n",
    "            f_left = None\n",
    "        else:\n",
    "            a = left\n",
    "            left = right\n",
    "            f_left = f_right\n",
    "            f_right = None\n",
    "    return (a + b) / 2, iterations"
   ]
  },
  {
   "cell_type": "code",
   "execution_count": 4,
   "id": "272509e6-6968-48e9-9f89-12809906b438",
   "metadata": {},
   "outputs": [],
   "source": [
    "eps = 0.001"
   ]
  },
  {
   "cell_type": "markdown",
   "id": "db64940e-766c-41a2-9fca-23d217d4989b",
   "metadata": {},
   "source": [
    "This wrapper counts the number of function invocations."
   ]
  },
  {
   "cell_type": "code",
   "execution_count": 5,
   "id": "66abbea3-bb06-42ae-a401-e036d7a7f64f",
   "metadata": {},
   "outputs": [],
   "source": [
    "class InvocationsCounter:\n",
    "    def __init__(self, f):\n",
    "        self.f = f\n",
    "        self.count = 0\n",
    "    \n",
    "    def __call__(self, x, *params):\n",
    "        self.count += 1\n",
    "        return self.f(x)"
   ]
  },
  {
   "cell_type": "markdown",
   "id": "7f0c6151-46cb-4a27-91c3-aa51647e3bb7",
   "metadata": {},
   "source": [
    "## a) $f(x) = x^3$, $x \\in [0, 1]$"
   ]
  },
  {
   "cell_type": "code",
   "execution_count": 6,
   "id": "471a1543-9ef2-4528-84a7-f2a922aba8be",
   "metadata": {
    "tags": []
   },
   "outputs": [
    {
     "name": "stdout",
     "output_type": "stream",
     "text": [
      "Exhaustive search: the result is x=0.000000, f(x)=0.000000; f calculations 1001; iterations 1001\n",
      "Dichotomy search : the result is x=0.000494, f(x)=0.000000; f calculations 22; iterations 11\n",
      "Golden ratio     : the result is x=0.000367, f(x)=0.000000; f calculations 16; iterations 15\n"
     ]
    }
   ],
   "source": [
    "def f(x):\n",
    "    if x < 0.0 or x > 1.0:\n",
    "        return math.inf\n",
    "    return x ** 3\n",
    "\n",
    "counter = InvocationsCounter(f)\n",
    "x = optimize.brute(counter, [slice(0.0, 1.0 + eps, eps)], finish=None)\n",
    "print(\"Exhaustive search: the result is x=%f, f(x)=%f; f calculations %d; iterations %d\" % (x, f(x), counter.count, counter.count))\n",
    "\n",
    "counter = InvocationsCounter(f)\n",
    "x = minimize_dichotomy(counter, 0.0, 1.0, eps)\n",
    "print(\"Dichotomy search : the result is x=%f, f(x)=%f; f calculations %d; iterations %d\" % (x[0], f(x[0]), counter.count, x[1]))\n",
    "\n",
    "counter = InvocationsCounter(f)\n",
    "x = minimize_golden(counter, 0.0, 1.0, eps)\n",
    "print(\"Golden ratio     : the result is x=%f, f(x)=%f; f calculations %d; iterations %d\" % (x[0], f(x[0]), counter.count, x[1]))"
   ]
  },
  {
   "cell_type": "markdown",
   "id": "a3fa3d42-91e9-4d81-a95f-10824d442b23",
   "metadata": {},
   "source": [
    "## b) $f(x) = |x - 0.2|$, $x \\in [0, 1]$"
   ]
  },
  {
   "cell_type": "code",
   "execution_count": 7,
   "id": "52d4d856-6ae6-4c84-adbb-61621dc9e81c",
   "metadata": {},
   "outputs": [
    {
     "name": "stdout",
     "output_type": "stream",
     "text": [
      "Exhaustive search: the result is x=0.200000, f(x)=0.000000; f calculations 1001; iterations 1001\n",
      "Dichotomy search : the result is x=0.200101, f(x)=0.000101; f calculations 22; iterations 11\n",
      "Golden ratio     : the result is x=0.200073, f(x)=0.000073; f calculations 16; iterations 15\n"
     ]
    }
   ],
   "source": [
    "def f(x):\n",
    "    if x < 0.0 or x > 1.0:\n",
    "        return math.inf\n",
    "    return abs(x - 0.2)\n",
    "\n",
    "counter = InvocationsCounter(f)\n",
    "x = optimize.brute(counter, [slice(0.0, 1.0 + eps, eps)], finish=None)\n",
    "print(\"Exhaustive search: the result is x=%f, f(x)=%f; f calculations %d; iterations %d\" % (x, f(x), counter.count, counter.count))\n",
    "\n",
    "counter = InvocationsCounter(f)\n",
    "x = minimize_dichotomy(counter, 0.0, 1.0, eps)\n",
    "print(\"Dichotomy search : the result is x=%f, f(x)=%f; f calculations %d; iterations %d\" % (x[0], f(x[0]), counter.count, x[1]))\n",
    "\n",
    "counter = InvocationsCounter(f)\n",
    "x = minimize_golden(counter, 0.0, 1.0, eps)\n",
    "print(\"Golden ratio     : the result is x=%f, f(x)=%f; f calculations %d; iterations %d\" % (x[0], f(x[0]), counter.count, x[1]))"
   ]
  },
  {
   "cell_type": "markdown",
   "id": "64d4b773-d720-4194-ae01-1a87bab5bcf1",
   "metadata": {},
   "source": [
    "## c) $f(x) = x \\sin \\frac{1}{x}$ $x \\in [0.01, 1]$"
   ]
  },
  {
   "cell_type": "code",
   "execution_count": 8,
   "id": "b13fcb07-45c5-4f9f-b496-4663efdd20d8",
   "metadata": {},
   "outputs": [
    {
     "name": "stdout",
     "output_type": "stream",
     "text": [
      "Exhaustive search: the result is x=0.223000, f(x)=-0.217225; f calculations 991; iterations 991\n",
      "Dichotomy search : the result is x=0.222596, f(x)=-0.217234; f calculations 22; iterations 11\n",
      "Golden ratio     : the result is x=0.222720, f(x)=-0.217232; f calculations 16; iterations 15\n"
     ]
    }
   ],
   "source": [
    "def f(x):\n",
    "    if x <= 0.0 or x > 1.0:\n",
    "        return math.inf\n",
    "    return x * math.sin(1 / x)\n",
    "\n",
    "counter = InvocationsCounter(f)\n",
    "x = optimize.brute(counter, [slice(0.01, 1.0 + eps, eps)], finish=None)\n",
    "print(\"Exhaustive search: the result is x=%f, f(x)=%f; f calculations %d; iterations %d\" % (x, f(x), counter.count, counter.count))\n",
    "\n",
    "counter = InvocationsCounter(f)\n",
    "x = minimize_dichotomy(counter, 0.01, 1.0, eps)\n",
    "print(\"Dichotomy search : the result is x=%f, f(x)=%f; f calculations %d; iterations %d\" % (x[0], f(x[0]), counter.count, x[1]))\n",
    "\n",
    "counter = InvocationsCounter(f)\n",
    "x = minimize_golden(counter, 0.01, 1.0, eps)\n",
    "print(\"Golden ratio     : the result is x=%f, f(x)=%f; f calculations %d; iterations %d\" % (x[0], f(x[0]), counter.count, x[1]))"
   ]
  },
  {
   "cell_type": "code",
   "execution_count": 9,
   "id": "9037743b-73ca-4771-bd23-8e97b13f579b",
   "metadata": {},
   "outputs": [],
   "source": [
    "import random"
   ]
  },
  {
   "cell_type": "code",
   "execution_count": 10,
   "id": "3367fd95-1505-44a8-baf8-187f74f4e498",
   "metadata": {},
   "outputs": [
    {
     "data": {
      "text/plain": [
       "(0.5413386381454871, 0.9381988917495738)"
      ]
     },
     "execution_count": 10,
     "metadata": {},
     "output_type": "execute_result"
    }
   ],
   "source": [
    "A = random.random()\n",
    "B = random.random()\n",
    "\n",
    "A, B"
   ]
  },
  {
   "cell_type": "code",
   "execution_count": 11,
   "id": "48d17f5a-6293-483e-b8d9-3b1b551e9aa9",
   "metadata": {},
   "outputs": [],
   "source": [
    "n = 100\n",
    "xs = [k / n for k in range(n + 1)]\n",
    "ys = [A * x + B + random.gauss(0, 1) for x in xs]"
   ]
  },
  {
   "cell_type": "code",
   "execution_count": 12,
   "id": "eba6d24c-bd58-4d60-b751-0b629f8e9f82",
   "metadata": {},
   "outputs": [
    {
     "data": {
      "image/png": "[encoded data removed]",
      "text/plain": [
       "<Figure size 1008x576 with 1 Axes>"
      ]
     },
     "metadata": {
      "needs_background": "light"
     },
     "output_type": "display_data"
    }
   ],
   "source": [
    "import matplotlib.pyplot as plt\n",
    "\n",
    "plt.plot(xs, ys, 'o', label='noisy')\n",
    "plt.plot(xs, [A * x + B for x in xs], label='clear')\n",
    "plt.legend()\n",
    "plt.show()"
   ]
  },
  {
   "cell_type": "code",
   "execution_count": 13,
   "id": "2c714d70-a004-40b7-af3d-e0327183d3ae",
   "metadata": {},
   "outputs": [],
   "source": [
    "def D(f, a, b):\n",
    "    return sum([(f(x, a, b) - y) ** 2 for x, y in zip(xs, ys)])"
   ]
  },
  {
   "cell_type": "code",
   "execution_count": 14,
   "id": "988ce243-2d15-499c-a312-c8a389b4b095",
   "metadata": {},
   "outputs": [
    {
     "name": "stdout",
     "output_type": "stream",
     "text": [
      "Exhaustive search: a=0.762000, b=0.871000 D(a, b)=114.587823; f calculations 1001000; iterations 1001000\n",
      "Gauss            : a=0.761384, b=0.871521 D(a, b)=114.587815; f calculations 102; iterations 3\n",
      "Nelder-Mead      : a=0.761105, b=0.871578 D(a, b)=114.587816; f calculations 65; iterations 33\n"
     ]
    },
    {
     "data": {
      "image/png": "[encoded data removed]",
      "text/plain": [
       "<Figure size 1008x576 with 1 Axes>"
      ]
     },
     "metadata": {
      "needs_background": "light"
     },
     "output_type": "display_data"
    }
   ],
   "source": [
    "def f(x, a, b):\n",
    "    return a * x + b\n",
    "\n",
    "d = lambda z: D(f, z[0], z[1])\n",
    "\n",
    "plt.plot(xs, ys, 'o', label='data')\n",
    "\n",
    "counter = InvocationsCounter(d)\n",
    "a, b = optimize.brute(counter, (slice(0.0, 1.0 + eps, eps), slice(0.0 + eps, 1.0 + eps, eps)), finish=None)\n",
    "print(\"Exhaustive search: a=%f, b=%f D(a, b)=%f; f calculations %d; iterations %d\" % (a, b, D(f, a, b), counter.count, counter.count))\n",
    "plt.plot(xs, [f(x, a, b) for x in xs], label='Exhaustive search')\n",
    "\n",
    "counter = InvocationsCounter(d)\n",
    "sol = optimize.minimize(counter, (0.5, 0.5), method='Powell', tol=eps, options={'direc': [(0, 1), (1, 0)]})\n",
    "print(\"Gauss            : a=%f, b=%f D(a, b)=%f; f calculations %d; iterations %d\" % (sol.x[0], sol.x[1], D(f, sol.x[0], sol.x[1]), counter.count, sol.nit))\n",
    "plt.plot(xs, [f(x, sol.x[0], sol.x[1]) for x in xs], label='Gauss')\n",
    "\n",
    "counter = InvocationsCounter(d)\n",
    "sol = optimize.minimize(counter, (0.5, 0.5), method='Nelder-Mead', tol=eps)\n",
    "print(\"Nelder-Mead      : a=%f, b=%f D(a, b)=%f; f calculations %d; iterations %d\" % (sol.x[0], sol.x[1], D(f, sol.x[0], sol.x[1]), counter.count, sol.nit))\n",
    "plt.plot(xs, [f(x, sol.x[0], sol.x[1]) for x in xs], label='Nelder-Mead')\n",
    "\n",
    "plt.legend()\n",
    "plt.show()"
   ]
  },
  {
   "cell_type": "code",
   "execution_count": 15,
   "id": "366dc063-9465-45cb-a0b1-693200bf6e8b",
   "metadata": {},
   "outputs": [
    {
     "name": "stdout",
     "output_type": "stream",
     "text": [
      "Exhaustive search: a=0.909000, b=-0.490000 D(a, b)=114.004238; f calculations 4002000; iterations 4002000\n",
      "Gauss            : a=0.908565, b=-0.490097 D(a, b)=114.004232; f calculations 98; iterations 4\n",
      "Nelder-Mead      : a=0.908847, b=-0.489713 D(a, b)=114.004225; f calculations 109; iterations 56\n"
     ]
    },
    {
     "data": {
      "image/png": "[encoded data removed]",
      "text/plain": [
       "<Figure size 1008x576 with 1 Axes>"
      ]
     },
     "metadata": {
      "needs_background": "light"
     },
     "output_type": "display_data"
    }
   ],
   "source": [
    "def f(x, a, b):\n",
    "    return a / (1 + b * x)\n",
    "\n",
    "d = lambda z: D(f, z[0], z[1])\n",
    "\n",
    "plt.plot(xs, ys, 'o', label='data')\n",
    "\n",
    "counter = InvocationsCounter(d)\n",
    "a, b = optimize.brute(counter, (slice(-1.0, 1.0 + eps, eps), slice(-1.0 + eps, 1.0 + eps, eps)), finish=None)\n",
    "print(\"Exhaustive search: a=%f, b=%f D(a, b)=%f; f calculations %d; iterations %d\" % (a, b, D(f, a, b), counter.count, counter.count))\n",
    "plt.plot(xs, [f(x, a, b) for x in xs], label='Exhaustive search')\n",
    "\n",
    "counter = InvocationsCounter(d)\n",
    "sol = optimize.minimize(counter, (0.0, 0.0), method='Powell', tol=eps, options={'direc': [(0, 1), (1, 0)]})\n",
    "print(\"Gauss            : a=%f, b=%f D(a, b)=%f; f calculations %d; iterations %d\" % (sol.x[0], sol.x[1], D(f, sol.x[0], sol.x[1]), counter.count, sol.nit))\n",
    "plt.plot(xs, [f(x, sol.x[0], sol.x[1]) for x in xs], label='Gauss')\n",
    "\n",
    "counter = InvocationsCounter(d)\n",
    "sol = optimize.minimize(counter, (0.0, 0.0), method='Nelder-Mead', tol=eps)\n",
    "print(\"Nelder-Mead      : a=%f, b=%f D(a, b)=%f; f calculations %d; iterations %d\" % (sol.x[0], sol.x[1], D(f, sol.x[0], sol.x[1]), counter.count, sol.nit))\n",
    "plt.plot(xs, [f(x, sol.x[0], sol.x[1]) for x in xs], label='Nelder-Mead')\n",
    "\n",
    "plt.legend()\n",
    "plt.show()"
   ]
  },
  {
   "cell_type": "code",
   "execution_count": null,
   "id": "08a4e840-a67a-4f00-97b2-6a6515d68776",
   "metadata": {},
   "outputs": [],
   "source": []
  }
 ],
 "metadata": {
  "kernelspec": {
   "display_name": "Python 3 (ipykernel)",
   "language": "python",
   "name": "python3"
  },
  "language_info": {
   "codemirror_mode": {
    "name": "ipython",
    "version": 3
   },
   "file_extension": ".py",
   "mimetype": "text/x-python",
   "name": "python",
   "nbconvert_exporter": "python",
   "pygments_lexer": "ipython3",
   "version": "3.9.7"
  }
 },
 "nbformat": 4,
 "nbformat_minor": 5
}
